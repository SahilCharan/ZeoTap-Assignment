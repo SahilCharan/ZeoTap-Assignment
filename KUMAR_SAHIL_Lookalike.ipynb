{
  "nbformat": 4,
  "nbformat_minor": 0,
  "metadata": {
    "colab": {
      "provenance": []
    },
    "kernelspec": {
      "name": "python3",
      "display_name": "Python 3"
    },
    "language_info": {
      "name": "python"
    }
  },
  "cells": [
    {
      "cell_type": "code",
      "execution_count": 1,
      "metadata": {
        "colab": {
          "base_uri": "https://localhost:8080/"
        },
        "id": "WCHKUvQQBr-W",
        "outputId": "80a653d3-03ad-4450-f680-2529e60193b8"
      },
      "outputs": [
        {
          "output_type": "stream",
          "name": "stdout",
          "text": [
            "Data shapes:\n",
            "Customers: (200, 4)\n",
            "Transactions: (1000, 7)\n",
            "Products: (100, 4)\n",
            "Sample of transactions:\n",
            "  TransactionID CustomerID ProductID      TransactionDate  Quantity  \\\n",
            "0        T00001      C0199      P067  2024-08-25 12:38:23         1   \n",
            "1        T00112      C0146      P067  2024-05-27 22:23:54         1   \n",
            "2        T00166      C0127      P067  2024-04-25 07:38:55         1   \n",
            "3        T00272      C0087      P067  2024-03-26 22:55:37         2   \n",
            "4        T00363      C0070      P067  2024-03-21 15:10:10         3   \n",
            "\n",
            "   TotalValue   Price  \n",
            "0      300.68  300.68  \n",
            "1      300.68  300.68  \n",
            "2      300.68  300.68  \n",
            "3      601.36  300.68  \n",
            "4      902.04  300.68  \n"
          ]
        }
      ],
      "source": [
        "import pandas as pd\n",
        "\n",
        "# Load the datasets\n",
        "customers_df = pd.read_csv('Customers.csv')\n",
        "transactions_df = pd.read_csv('Transactions.csv')\n",
        "products_df = pd.read_csv('Products.csv')\n",
        "\n",
        "print(\"Data shapes:\")\n",
        "print(\"Customers:\", customers_df.shape)\n",
        "print(\"Transactions:\", transactions_df.shape)\n",
        "print(\"Products:\", products_df.shape)\n",
        "\n",
        "print(\"\\\n",
        "Sample of transactions:\")\n",
        "print(transactions_df.head())"
      ]
    },
    {
      "cell_type": "code",
      "source": [
        "# Check the columns of the merged data to ensure 'Price' exists\n",
        "merged_data = transactions_df.merge(customers_df, on='CustomerID')\n",
        "merged_data = merged_data.merge(products_df, on='ProductID')\n",
        "\n",
        "print(\"Columns in merged data:\")\n",
        "print(merged_data.columns)\n",
        "\n",
        "# Display a sample of the merged data to verify\n",
        "print(\"\\\n",
        "Sample of merged data:\")\n",
        "print(merged_data.head())"
      ],
      "metadata": {
        "colab": {
          "base_uri": "https://localhost:8080/"
        },
        "id": "weF0nGz9CKWI",
        "outputId": "944d1e10-5a6d-420c-ed78-0eaa26304a92"
      },
      "execution_count": 3,
      "outputs": [
        {
          "output_type": "stream",
          "name": "stdout",
          "text": [
            "Columns in merged data:\n",
            "Index(['TransactionID', 'CustomerID', 'ProductID', 'TransactionDate',\n",
            "       'Quantity', 'TotalValue', 'Price_x', 'CustomerName', 'Region',\n",
            "       'SignupDate', 'ProductName', 'Category', 'Price_y'],\n",
            "      dtype='object')\n",
            "Sample of merged data:\n",
            "  TransactionID CustomerID ProductID      TransactionDate  Quantity  \\\n",
            "0        T00001      C0199      P067  2024-08-25 12:38:23         1   \n",
            "1        T00112      C0146      P067  2024-05-27 22:23:54         1   \n",
            "2        T00166      C0127      P067  2024-04-25 07:38:55         1   \n",
            "3        T00272      C0087      P067  2024-03-26 22:55:37         2   \n",
            "4        T00363      C0070      P067  2024-03-21 15:10:10         3   \n",
            "\n",
            "   TotalValue  Price_x     CustomerName         Region  SignupDate  \\\n",
            "0      300.68   300.68   Andrea Jenkins         Europe  2022-12-03   \n",
            "1      300.68   300.68  Brittany Harvey           Asia  2024-09-04   \n",
            "2      300.68   300.68  Kathryn Stevens         Europe  2024-04-04   \n",
            "3      601.36   300.68  Travis Campbell  South America  2024-04-11   \n",
            "4      902.04   300.68    Timothy Perez         Europe  2022-03-15   \n",
            "\n",
            "                       ProductName     Category  Price_y  \n",
            "0  ComfortLiving Bluetooth Speaker  Electronics   300.68  \n",
            "1  ComfortLiving Bluetooth Speaker  Electronics   300.68  \n",
            "2  ComfortLiving Bluetooth Speaker  Electronics   300.68  \n",
            "3  ComfortLiving Bluetooth Speaker  Electronics   300.68  \n",
            "4  ComfortLiving Bluetooth Speaker  Electronics   300.68  \n"
          ]
        }
      ]
    },
    {
      "cell_type": "code",
      "source": [
        "# Inspect the 'Price_x' and 'Price_y' columns to determine their values\n",
        "print(\"Unique values in Price_x:\")\n",
        "print(merged_data['Price_x'].unique())\n",
        "\n",
        "print(\"\\\n",
        "Unique values in Price_y:\")\n",
        "print(merged_data['Price_y'].unique())"
      ],
      "metadata": {
        "colab": {
          "base_uri": "https://localhost:8080/"
        },
        "id": "N5uaYZ5jCBZw",
        "outputId": "a964fe8d-417e-44f5-e412-708a62850759"
      },
      "execution_count": 4,
      "outputs": [
        {
          "output_type": "stream",
          "name": "stdout",
          "text": [
            "Unique values in Price_x:\n",
            "[300.68 217.05 239.7  147.95 290.17 274.94 454.53 100.81 227.26 374.16\n",
            " 456.28 155.65  57.3   48.69 350.13 153.19 420.15 147.22 416.35 156.96\n",
            " 337.91  44.12  65.16 440.7  159.33 447.23 389.2  429.29 372.55 114.2\n",
            " 157.62 437.65 277.86 284.62 229.06  41.18 126.34 430.59 330.05 137.54\n",
            " 335.84 399.34 303.2  196.4  379.44 295.58 488.63 325.01  66.32 261.2\n",
            " 307.47 469.77 416.4  354.81 427.61  33.59 220.91 263.55 337.22 158.93\n",
            " 169.3  304.94  26.99 121.32 128.53 452.42 165.3  436.89 455.72 404.4\n",
            "  30.59  64.25  26.26  95.69 433.64 319.34 303.5  354.29 385.37 396.34\n",
            "  18.82 346.3   16.08  55.99 159.6  497.76 429.31 235.58 447.34 417.37\n",
            " 338.66 146.85 222.95 127.36 299.93  64.38 481.78 366.07 265.51 459.86]\n",
            "Unique values in Price_y:\n",
            "[300.68 217.05 239.7  147.95 290.17 274.94 454.53 100.81 227.26 374.16\n",
            " 456.28 155.65  57.3   48.69 350.13 153.19 420.15 147.22 416.35 156.96\n",
            " 337.91  44.12  65.16 440.7  159.33 447.23 389.2  429.29 372.55 114.2\n",
            " 157.62 437.65 277.86 284.62 229.06  41.18 126.34 430.59 330.05 137.54\n",
            " 335.84 399.34 303.2  196.4  379.44 295.58 488.63 325.01  66.32 261.2\n",
            " 307.47 469.77 416.4  354.81 427.61  33.59 220.91 263.55 337.22 158.93\n",
            " 169.3  304.94  26.99 121.32 128.53 452.42 165.3  436.89 455.72 404.4\n",
            "  30.59  64.25  26.26  95.69 433.64 319.34 303.5  354.29 385.37 396.34\n",
            "  18.82 346.3   16.08  55.99 159.6  497.76 429.31 235.58 447.34 417.37\n",
            " 338.66 146.85 222.95 127.36 299.93  64.38 481.78 366.07 265.51 459.86]\n"
          ]
        }
      ]
    },
    {
      "cell_type": "code",
      "source": [
        "# Build the lookalike model with corrected features\n",
        "from sklearn.metrics.pairwise import cosine_similarity\n",
        "from sklearn.preprocessing import StandardScaler\n",
        "import numpy as np\n",
        "\n",
        "# Prepare customer profiles\n",
        "customer_profile = merged_data.groupby('CustomerID').agg({\n",
        "    'TotalValue': 'sum',\n",
        "    'Quantity': 'sum',\n",
        "    'Price_x': 'mean',\n",
        "    'Region': 'first',\n",
        "    'Category': lambda x: ','.join(set(x))\n",
        "}).reset_index()\n",
        "\n",
        "# One-hot encode categorical variables\n",
        "customer_profile = pd.get_dummies(customer_profile, columns=['Region'])\n",
        "\n",
        "# Scale numerical features\n",
        "scaler = StandardScaler()\n",
        "numerical_features = ['TotalValue', 'Quantity', 'Price_x']\n",
        "customer_profile[numerical_features] = scaler.fit_transform(customer_profile[numerical_features])\n",
        "\n",
        "# Compute similarity matrix\n",
        "similarity_matrix = cosine_similarity(customer_profile.drop(columns=['CustomerID', 'Category']))\n",
        "\n",
        "# Find top 3 similar customers for first 20 customers\n",
        "lookalike_results = []\n",
        "for i in range(20):\n",
        "    customer_id = customer_profile['CustomerID'].iloc[i]\n",
        "    similar_indices = np.argsort(-similarity_matrix[i])[1:4]\n",
        "    similar_customers = customer_profile.iloc[similar_indices]['CustomerID'].values\n",
        "    similarity_scores = similarity_matrix[i][similar_indices]\n",
        "\n",
        "    for similar_customer, score in zip(similar_customers, similarity_scores):\n",
        "        lookalike_results.append({\n",
        "            'CustomerID': customer_id,\n",
        "            'SimilarCustomerID': similar_customer,\n",
        "            'SimilarityScore': round(score, 4)\n",
        "        })\n",
        "\n",
        "# Create and save results\n",
        "lookalike_df = pd.DataFrame(lookalike_results)\n",
        "lookalike_df.to_csv('Lookalike.csv', index=False)\n",
        "\n",
        "print(\"Top 3 lookalikes for first 20 customers:\")\n",
        "print(lookalike_df.head(10))"
      ],
      "metadata": {
        "colab": {
          "base_uri": "https://localhost:8080/"
        },
        "id": "BSdMnlzMCZ8F",
        "outputId": "6fd921f2-ed77-40bc-875c-111ee7096fa9"
      },
      "execution_count": 5,
      "outputs": [
        {
          "output_type": "stream",
          "name": "stdout",
          "text": [
            "Top 3 lookalikes for first 20 customers:\n",
            "  CustomerID SimilarCustomerID  SimilarityScore\n",
            "0      C0001             C0137           0.9790\n",
            "1      C0001             C0191           0.9706\n",
            "2      C0001             C0011           0.9489\n",
            "3      C0002             C0088           0.9848\n",
            "4      C0002             C0142           0.9783\n",
            "5      C0002             C0043           0.9638\n",
            "6      C0003             C0190           0.9807\n",
            "7      C0003             C0147           0.9558\n",
            "8      C0003             C0174           0.9319\n",
            "9      C0004             C0165           0.9826\n"
          ]
        }
      ]
    }
  ]
}